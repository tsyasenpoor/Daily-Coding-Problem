{
  "metadata": {
    "kernelspec": {
      "name": "python",
      "display_name": "Python (Pyodide)",
      "language": "python"
    },
    "language_info": {
      "codemirror_mode": {
        "name": "python",
        "version": 3
      },
      "file_extension": ".py",
      "mimetype": "text/x-python",
      "name": "python",
      "nbconvert_exporter": "python",
      "pygments_lexer": "ipython3",
      "version": "3.8"
    }
  },
  "nbformat_minor": 4,
  "nbformat": 4,
  "cells": [
    {
      "cell_type": "code",
      "source": "l = [10, 15, 3, 7]\nk = 17\n\nl_len = len(l)\n\ndef compute(a_list, k):\n    \n    # loop through the list\n    for i in range(l_len):\n\n        a_list_len = len(a_list)\n        base_num = a_list[0]\n        sum_num = 0\n\n        # pop the first item in the list\n        a_list.pop(0)\n\n        # refresh the list without the first one\n        a_list_len = len(a_list)\n\n        for j in range(a_list_len):\n            sum_num = base_num + a_list[j]\n            # print(base_num, a_list, a_list_len, sum_num)\n\n            if sum_num == k:\n                # return the values used to match the k value\n                return base_num, a_list[j]\n    \n    # return False if nothing matches.\n    return False\n\nr = compute(l, k)\n\nif not r:\n    print(\"there was no match!\")\nelse:\n    print(f'there was a match with k({k}), {r[0]} + {r[1]}')",
      "metadata": {
        "trusted": true
      },
      "outputs": [
        {
          "name": "stdout",
          "text": "there was a match with k(17), 10 + 7\n",
          "output_type": "stream"
        }
      ],
      "execution_count": 3
    },
    {
      "cell_type": "code",
      "source": "",
      "metadata": {
        "trusted": true
      },
      "outputs": [],
      "execution_count": null
    }
  ]
}